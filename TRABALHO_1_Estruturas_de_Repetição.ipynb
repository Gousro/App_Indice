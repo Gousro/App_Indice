{
  "nbformat": 4,
  "nbformat_minor": 0,
  "metadata": {
    "colab": {
      "name": "TRABALHO 1 - Estruturas de Repetição.ipynb",
      "provenance": [],
      "collapsed_sections": [],
      "include_colab_link": true
    },
    "kernelspec": {
      "name": "python3",
      "display_name": "Python 3"
    }
  },
  "cells": [
    {
      "cell_type": "markdown",
      "metadata": {
        "id": "view-in-github",
        "colab_type": "text"
      },
      "source": [
        "<a href=\"https://colab.research.google.com/github/Gousro/App_Indice/blob/main/TRABALHO_1_Estruturas_de_Repeti%C3%A7%C3%A3o.ipynb\" target=\"_parent\"><img src=\"https://colab.research.google.com/assets/colab-badge.svg\" alt=\"Open In Colab\"/></a>"
      ]
    },
    {
      "cell_type": "markdown",
      "metadata": {
        "id": "G90zxY79qIXe"
      },
      "source": [
        "<?xml version=\"1.0\" encoding=\"UTF-8\"?>\n",
        "<html>\n",
        "  <body>\n",
        "    <header></header>\n",
        "        <CENTER>\n",
        "          <img src=\"https://www.uvv.br/wp-content/themes/uvvBr/templates/assets//img/logouvv.svg\" alt=\"UVV-LOGO\" style = width=\"100px\"; height=\"100px\">\n",
        "        </CENTER>\n",
        "        <CENTER><b>Laboratório de Programação - PYTHON</b></CENTER>\n",
        "        <CENTER><b>Prof.: Alessandro Bertolani Oliveira</b>\n",
        "        <CENTER><b>TRABALHO 1 - Estruturas de Repetição</b></CENTER><br/>"
      ]
    },
    {
      "cell_type": "markdown",
      "metadata": {
        "id": "XqwNMjGLhqXV"
      },
      "source": [
        "**NOME: **"
      ]
    },
    {
      "cell_type": "markdown",
      "metadata": {
        "id": "Bnhc9WsIrwq5"
      },
      "source": [
        "CRIAR / COMPARTILHAR AQUI UM LINK PARA SEU PRÓPRIO NOTEBOOK COLAB: [Clique Aqui!](https://)"
      ]
    },
    {
      "cell_type": "markdown",
      "metadata": {
        "id": "yZfJjeQgqTo_"
      },
      "source": [
        "# O que vamos Praticar:\n",
        "<br/>\n",
        "$\\longmapsto$ <b>ESTRUTURAS DE CONTROLE - REPETIÇÃO: </b><b> FOR / IN RANGE / WHILE / BREAK </b>.<br/><br/>"
      ]
    },
    {
      "cell_type": "markdown",
      "metadata": {
        "id": "u0MPOSPAhOp3"
      },
      "source": [
        "Fazer dois (2) exercícios de Repetição da lista usando o comando **FOR + IN RANGE** (a sua escolha);"
      ]
    },
    {
      "cell_type": "code",
      "metadata": {
        "id": "oWIKx1YThWWk"
      },
      "source": [
        "# 1) Escrever um algoritmo para exibir os múltiplos de 3 compreendidos no intervalo: [3 100].\n",
        "for m3 in range(3, 100): \n",
        "  if m3 % 3 == 0:\n",
        "    print(m3)"
      ],
      "execution_count": null,
      "outputs": []
    },
    {
      "cell_type": "code",
      "metadata": {
        "id": "YeHmVeRihWn9"
      },
      "source": [
        "# 2) Escrever um algoritmo para exibir os múltiplos de 11, a soma e a média dos múltiplos de 11, em ordem decrescente (inversa), compreendidos entre o intervalo: [200 100].\n",
        "for m11 in range(200, 100, -1): \n",
        "  if m11 % 11 == 0: \n",
        "    print(m11)"
      ],
      "execution_count": null,
      "outputs": []
    },
    {
      "cell_type": "markdown",
      "metadata": {
        "id": "nrUtgE29hcFJ"
      },
      "source": [
        "Fazer dois (2) exercícios de Repetição da lista usando o comando **WHILE** (a sua escolha):"
      ]
    },
    {
      "cell_type": "code",
      "metadata": {
        "id": "eVqiRk4Zhg51"
      },
      "source": [
        "# \n",
        "n = 0\n",
        "par = 0\n",
        "impar = 0\n",
        "#while n <= 99 or par >= 10: \n",
        "#  for n in range(10, 99): \n",
        "#    if par % 2 == 0: \n",
        "#      print(par)\n",
        "#    elif impar % 3 == 0: \n",
        "#      print(impar)"
      ],
      "execution_count": null,
      "outputs": []
    },
    {
      "cell_type": "code",
      "metadata": {
        "id": "eJUVmbPthhFU"
      },
      "source": [
        ""
      ],
      "execution_count": null,
      "outputs": []
    },
    {
      "cell_type": "markdown",
      "metadata": {
        "id": "X0u2slnjhu12"
      },
      "source": [
        "Fazer dois (2) exercícios de Repetição da lista usando o comando **WHILE + BREAK** (a sua escolha):"
      ]
    },
    {
      "cell_type": "code",
      "metadata": {
        "id": "9T_EFvmShyp8"
      },
      "source": [
        ""
      ],
      "execution_count": null,
      "outputs": []
    },
    {
      "cell_type": "code",
      "metadata": {
        "id": "jC86EfG_hyzF"
      },
      "source": [
        ""
      ],
      "execution_count": null,
      "outputs": []
    },
    {
      "cell_type": "markdown",
      "metadata": {
        "id": "uWQs2rY_h2RM"
      },
      "source": [
        "# DESAFIO: Senha da porta mágica"
      ]
    },
    {
      "cell_type": "markdown",
      "metadata": {
        "id": "O6YooHy7h4l4"
      },
      "source": [
        "DESCRIÇÃO DO JOGO:"
      ]
    },
    {
      "cell_type": "markdown",
      "metadata": {
        "id": "c8M-nMiciMvM"
      },
      "source": [
        "Descobrir a senha da porta mágica. Com isso:\n",
        "\n",
        "$\\longmapsto$ **REGRA 1**: O Guerreiro tem **7 chances antes da mort**e;\n",
        "\n",
        "$\\longmapsto$ **REGRA 2**: O Oráculo diz uma **DICA**; se o número escolhido pelo guerreiro é:\n",
        "\n",
        "*   MAIOR que o Segredo da porta ou \n",
        "*   MENOR que o Segredo da porta."
      ]
    },
    {
      "cell_type": "code",
      "metadata": {
        "id": "c-dJD1XCj_ki"
      },
      "source": [
        "import numpy as np"
      ],
      "execution_count": null,
      "outputs": []
    },
    {
      "cell_type": "code",
      "metadata": {
        "id": "_fjH4OPmilmH",
        "colab": {
          "base_uri": "https://localhost:8080/"
        },
        "outputId": "55fdcdc7-9df8-44e7-f1b1-86d9bbfb30d7"
      },
      "source": [
        "# ESQUELETO DO PROGRAMA:\n",
        "while True:\n",
        "  print(\"MENU: \")\n",
        "  print(\"Escolha: [1] para jogar ou [0] para sair: \")\n",
        "  resposta = int(input())\n",
        "  if (resposta == 0):\n",
        "    print(\"Fim do Jogo.\")\n",
        "    break\n",
        "  elif (resposta != 1):\n",
        "    print(\"Erro. Escolha de novo\")\n",
        "  else:\n",
        "    segredo = np.random.randint(1, 101, 1)\n",
        "    print(f\"Segredo: {segredo[0]}\")\n",
        "    \n",
        "    # FAZER O JOGO AQUI!\n",
        "    tentativas = 0                 # No máximo 7 chances antes da morte!\n",
        "    #while ():"
      ],
      "execution_count": null,
      "outputs": [
        {
          "output_type": "stream",
          "name": "stdout",
          "text": [
            "MENU: \n",
            "Escolha: [1] para jogar ou [0] para sair: \n",
            "1\n",
            "Segredo: 51\n",
            "MENU: \n",
            "Escolha: [1] para jogar ou [0] para sair: \n",
            "1\n",
            "Segredo: 90\n",
            "MENU: \n",
            "Escolha: [1] para jogar ou [0] para sair: \n",
            "1\n",
            "Segredo: 80\n",
            "MENU: \n",
            "Escolha: [1] para jogar ou [0] para sair: \n",
            "1\n",
            "Segredo: 5\n",
            "MENU: \n",
            "Escolha: [1] para jogar ou [0] para sair: \n",
            "0\n",
            "Fim do Jogo.\n"
          ]
        }
      ]
    }
  ]
}